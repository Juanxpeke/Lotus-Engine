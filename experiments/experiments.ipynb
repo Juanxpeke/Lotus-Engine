{
 "cells": [
  {
   "cell_type": "markdown",
   "id": "5964ed47",
   "metadata": {},
   "source": [
    "# Experiments"
   ]
  },
  {
   "cell_type": "markdown",
   "id": "f3394129",
   "metadata": {},
   "source": [
    "These notebook is intended to retrieve the data from the experiments data storaged in the CSV files"
   ]
  },
  {
   "cell_type": "code",
   "execution_count": 13,
   "id": "a78f5b51",
   "metadata": {},
   "outputs": [],
   "source": [
    "from matplotlib import pyplot as plt\n",
    "import pandas as pd\n",
    "import numpy as np\n",
    "import os"
   ]
  },
  {
   "cell_type": "code",
   "execution_count": 14,
   "id": "334561ac",
   "metadata": {},
   "outputs": [],
   "source": [
    "results_folder = \"results\"\n",
    "results_columns = [\n",
    "    \"TraditionalSceneRenderTime\",\n",
    "    \"IndirectObjectBatchBuildTime\",\n",
    "    \"IndirectDrawBatchBuildTime\",\n",
    "    \"IndirectShaderBatchBuildTime\",\n",
    "    \"IndirectObjectBufferRefreshTime\",\n",
    "    \"IndirectObjectHandleBufferRefreshTime\",\n",
    "    \"IndirectMaterialBufferRefreshTime\",\n",
    "    \"IndirectIndirectBufferRefreshTime\",\n",
    "    \"IndirectSceneRenderTime\",\n",
    "    \"DataGenerationTime\",\n",
    "    \"TerrainRenderTime\",\n",
    "    \"ObjectsPlacesGenerationTime\",\n",
    "    \"AddedTraditionalObjects\",\n",
    "    \"AddedIndirectObjects\",\n",
    "    \"ChunksLoaded\",\n",
    "    \"ObjectPlacesGenerated\",\n",
    "]"
   ]
  },
  {
   "cell_type": "markdown",
   "id": "539c89c9",
   "metadata": {},
   "source": [
    "## Number of Objects"
   ]
  },
  {
   "cell_type": "markdown",
   "id": "7061b794",
   "metadata": {},
   "source": [
    "Average statistics per frame when running an application with a permanent amount of objects"
   ]
  },
  {
   "cell_type": "code",
   "execution_count": 29,
   "id": "482f62ba",
   "metadata": {},
   "outputs": [
    {
     "data": {
      "image/png": "[encoded data removed]",
      "text/plain": [
       "<Figure size 640x480 with 1 Axes>"
      ]
     },
     "metadata": {},
     "output_type": "display_data"
    }
   ],
   "source": [
    "def extract_number_of_objects_from_filename(filename):\n",
    "    # Assuming the size is part of the filename, e.g., \"NumberOfObjects-Indirect-256.csv\"\n",
    "    noo = filename.split('-')[-1].replace('.csv', '')\n",
    "    return int(noo)\n",
    "\n",
    "def get_merged_df(csv_files):\n",
    "    # List to hold individual DataFrames\n",
    "    dataframes = []\n",
    "\n",
    "    for file in csv_files:\n",
    "        # Read the CSV file\n",
    "        df = pd.read_csv(file, header=None)\n",
    "        # Add columns\n",
    "        df.columns = results_columns\n",
    "        # Extract size from filename and add as a new column\n",
    "        df['noo'] = extract_number_of_objects_from_filename(file)\n",
    "        # Append to the list of DataFrames\n",
    "        dataframes.append(df)\n",
    "\n",
    "    # Concatenate all DataFrames into one\n",
    "    merged_df = pd.concat(dataframes, ignore_index=True)\n",
    "\n",
    "    # Reorder columns to match the desired output\n",
    "    merged_df = merged_df[[\"noo\"] + results_columns]\n",
    "    \n",
    "    return merged_df\n",
    "\n",
    "def add_sum_column(df, column_name, columns_to_sum):\n",
    "    df[column_name] = df[columns_to_sum].sum(axis=1)\n",
    "    return df\n",
    "\n",
    "prefix = \"NumberOfObjects\"\n",
    "\n",
    "traditional_files = []\n",
    "indirect_files = []\n",
    "\n",
    "for result_file in os.listdir(results_folder):\n",
    "    if prefix in result_file:  \n",
    "        if \"Traditional\" in result_file:\n",
    "            traditional_files.append(results_folder + \"/\" + result_file)\n",
    "        elif \"Indirect\" in result_file:\n",
    "            indirect_files.append(results_folder + \"/\" + result_file)\n",
    "            \n",
    "traditional_merged_df = get_merged_df(traditional_files)\n",
    "indirect_merged_df = get_merged_df(indirect_files)\n",
    "\n",
    "# Average total time for each number of objects\n",
    "traditional_avg = traditional_merged_df.groupby(\"noo\").mean()\n",
    "indirect_avg = indirect_merged_df.groupby(\"noo\").mean()\n",
    "\n",
    "traditional_final = add_sum_column(traditional_avg, \"TotalFrameTime\", [\"TraditionalSceneRenderTime\"])\n",
    "indirect_batch = add_sum_column(indirect_avg, \"BatchBuildTime\", [\"IndirectObjectBatchBuildTime\", \"IndirectDrawBatchBuildTime\", \"IndirectShaderBatchBuildTime\"])\n",
    "indirect_buffer = add_sum_column(indirect_batch, \"BufferRefreshTime\", [\"IndirectObjectBufferRefreshTime\", \"IndirectObjectHandleBufferRefreshTime\", \"IndirectMaterialBufferRefreshTime\", \"IndirectIndirectBufferRefreshTime\"])\n",
    "indirect_final = add_sum_column(indirect_buffer, \"TotalFrameTime\", [\"BatchBuildTime\", \"BufferRefreshTime\", \"IndirectSceneRenderTime\"])\n",
    "\n",
    "fig, ax = plt.subplots()\n",
    "ax.plot(traditional_final.index, traditional_final[\"TotalFrameTime\"], label=\"Traditional Total Time\")\n",
    "ax.plot(indirect_final.index, indirect_final[\"TotalFrameTime\"], label=\"Indirect Total Time\")\n",
    "ax.set_xlabel(\"Number of Objects\")\n",
    "ax.set_ylabel(\"Total time (ms)\")\n",
    "ax.legend()\n",
    "plt.title(\"Total time for different number of objects\")\n",
    "plt.show()"
   ]
  },
  {
   "cell_type": "code",
   "execution_count": null,
   "id": "26e49107",
   "metadata": {},
   "outputs": [],
   "source": [
    "def fill_dataset(path, title):\n",
    "    print(\"reading\", path, title)\n",
    "    df = pd.read_csv(path, header=None)\n",
    "    fig, ax = plt.subplots()\n",
    "    fig_title = compute_fig_title(path, title)\n",
    "    \n",
    "    if title == 'iterations':\n",
    "        ax.plot(df[0], df[1])\n",
    "        ax.set_xlabel('time (s)')\n",
    "        ax.set_ylabel('iterations')\n",
    "        ax.set_xlim(left=0)\n",
    "        ax.set_ylim(bottom=0)\n",
    "    elif title == 'particles-per-second':\n",
    "        ax.plot(df[0], df[1])\n",
    "        ax.set_xlabel('time (s)')\n",
    "        ax.set_ylabel('particles/second')\n",
    "        ax.set_xlim(left=0)\n",
    "        ax.set_ylim(bottom=min(df[1])*0.95)  # log scale can't handle 0, obviously\n",
    "        #ax.set_yscale('log')\n",
    "    \n",
    "    ax.set_title(fig_title)\n",
    "    \n",
    "    if not os.path.exists('plots'):\n",
    "        os.makedirs('plots')\n",
    "    fig.savefig(os.path.join('plots', fig_title+'.jpg'))"
   ]
  },
  {
   "cell_type": "code",
   "execution_count": null,
   "id": "90a6eabe",
   "metadata": {},
   "outputs": [],
   "source": []
  }
 ],
 "metadata": {
  "kernelspec": {
   "display_name": "Python 3 (ipykernel)",
   "language": "python",
   "name": "python3"
  },
  "language_info": {
   "codemirror_mode": {
    "name": "ipython",
    "version": 3
   },
   "file_extension": ".py",
   "mimetype": "text/x-python",
   "name": "python",
   "nbconvert_exporter": "python",
   "pygments_lexer": "ipython3",
   "version": "3.9.2"
  }
 },
 "nbformat": 4,
 "nbformat_minor": 5
}
